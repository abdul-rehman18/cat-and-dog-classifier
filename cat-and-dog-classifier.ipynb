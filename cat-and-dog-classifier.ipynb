{
 "cells": [
  {
   "cell_type": "code",
   "execution_count": 1,
   "id": "7087b660",
   "metadata": {},
   "outputs": [],
   "source": [
    "import numpy as np\n",
    "import cv2\n",
    "import os\n",
    "import random\n",
    "import matplotlib.pyplot as plt\n",
    "import pickle"
   ]
  },
  {
   "cell_type": "code",
   "execution_count": 2,
   "id": "ce3cf824",
   "metadata": {},
   "outputs": [],
   "source": [
    "#Download Dataset from following link: https://www.kaggle.com/datasets/arpitjain007/dog-vs-cat-fastai\n",
    "DIR = r'C:/Users/Dell/Desktop/dogscats'\n",
    "CATEG = ['cats','dogs']"
   ]
  },
  {
   "cell_type": "code",
   "execution_count": 3,
   "id": "15d18a02",
   "metadata": {},
   "outputs": [],
   "source": [
    "IMG_SIZE=100\n",
    "data=[]\n",
    "for c in CATEG:\n",
    "    folder = os.path.join(DIR,c)\n",
    "    label = CATEG.index(c)\n",
    "    for image in os.listdir(folder):\n",
    "        img_path = os.path.join(folder,image)\n",
    "        img_arr=cv2.imread(img_path)\n",
    "        img_arr=cv2.resize(img_arr,(IMG_SIZE,IMG_SIZE))\n",
    "        data.append([img_arr,label])\n",
    "#         plt.imshow(img_arr)"
   ]
  },
  {
   "cell_type": "code",
   "execution_count": 4,
   "id": "fc5a9ec2",
   "metadata": {},
   "outputs": [
    {
     "data": {
      "text/plain": [
       "23000"
      ]
     },
     "execution_count": 4,
     "metadata": {},
     "output_type": "execute_result"
    }
   ],
   "source": [
    "len(data)"
   ]
  },
  {
   "cell_type": "code",
   "execution_count": 5,
   "id": "202ab859",
   "metadata": {},
   "outputs": [],
   "source": [
    "random.shuffle(data)"
   ]
  },
  {
   "cell_type": "code",
   "execution_count": 6,
   "id": "25872e4c",
   "metadata": {},
   "outputs": [],
   "source": [
    "X=[]\n",
    "y=[]\n",
    "\n",
    "for features,labels in data:\n",
    "    X.append(features)\n",
    "    y.append(labels)\n"
   ]
  },
  {
   "cell_type": "code",
   "execution_count": 7,
   "id": "0f093c06",
   "metadata": {},
   "outputs": [],
   "source": [
    "X =np.array(X)\n",
    "y = np.array(y)"
   ]
  },
  {
   "cell_type": "code",
   "execution_count": 9,
   "id": "0518b50f",
   "metadata": {},
   "outputs": [],
   "source": [
    "pickle.dump(X,open('X.pkl','wb'))\n",
    "pickle.dump(y,open('y.pkl','wb'))"
   ]
  },
  {
   "cell_type": "code",
   "execution_count": null,
   "id": "49009d01",
   "metadata": {},
   "outputs": [],
   "source": []
  }
 ],
 "metadata": {
  "kernelspec": {
   "display_name": "Python 3 (ipykernel)",
   "language": "python",
   "name": "python3"
  },
  "language_info": {
   "codemirror_mode": {
    "name": "ipython",
    "version": 3
   },
   "file_extension": ".py",
   "mimetype": "text/x-python",
   "name": "python",
   "nbconvert_exporter": "python",
   "pygments_lexer": "ipython3",
   "version": "3.10.9"
  }
 },
 "nbformat": 4,
 "nbformat_minor": 5
}
