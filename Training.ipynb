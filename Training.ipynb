{
 "cells": [
  {
   "cell_type": "code",
   "execution_count": 5,
   "id": "38b5e30c",
   "metadata": {},
   "outputs": [],
   "source": [
    "import pickle"
   ]
  },
  {
   "cell_type": "code",
   "execution_count": 6,
   "id": "dad1091e",
   "metadata": {},
   "outputs": [],
   "source": [
    "X=pickle.load(open('X.pkl','rb'))\n",
    "y=pickle.load(open('y.pkl','rb'))"
   ]
  },
  {
   "cell_type": "code",
   "execution_count": 7,
   "id": "90307130",
   "metadata": {},
   "outputs": [],
   "source": [
    "X =X/255"
   ]
  },
  {
   "cell_type": "code",
   "execution_count": 8,
   "id": "eb6c6090",
   "metadata": {},
   "outputs": [
    {
     "data": {
      "text/plain": [
       "(23000, 100, 100, 3)"
      ]
     },
     "execution_count": 8,
     "metadata": {},
     "output_type": "execute_result"
    }
   ],
   "source": [
    "X.shape"
   ]
  },
  {
   "cell_type": "code",
   "execution_count": 9,
   "id": "80f8d81c",
   "metadata": {},
   "outputs": [],
   "source": [
    "from keras.models import Sequential\n",
    "from keras.layers import Conv2D,MaxPooling2D,Flatten,Dense"
   ]
  },
  {
   "cell_type": "code",
   "execution_count": 10,
   "id": "47c610b5",
   "metadata": {},
   "outputs": [],
   "source": [
    "model=Sequential()\n",
    "model.add(Conv2D(64,(3,3),activation='relu'))\n",
    "model.add(MaxPooling2D((2,2)))\n",
    "\n",
    "model.add(Conv2D(64,(3,3),activation='relu'))\n",
    "model.add(MaxPooling2D((2,2)))\n",
    "\n",
    "model.add(Flatten())\n",
    "\n",
    "model.add(Dense(128,input_shape=X.shape[1:],activation='relu'))\n",
    "model.add(Dense(2,activation='softmax'))\n"
   ]
  },
  {
   "cell_type": "code",
   "execution_count": 11,
   "id": "b6a96620",
   "metadata": {},
   "outputs": [],
   "source": [
    "model.compile(optimizer='adam',loss='sparse_categorical_crossentropy', metrics=['accuracy'])"
   ]
  },
  {
   "cell_type": "code",
   "execution_count": 8,
   "id": "6ba730a2",
   "metadata": {},
   "outputs": [
    {
     "name": "stdout",
     "output_type": "stream",
     "text": [
      "Epoch 1/5\n",
      "647/647 [==============================] - 372s 572ms/step - loss: 0.6244 - accuracy: 0.6628 - val_loss: 0.5215 - val_accuracy: 0.7465\n",
      "Epoch 2/5\n",
      "647/647 [==============================] - 409s 632ms/step - loss: 0.4929 - accuracy: 0.7614 - val_loss: 0.4756 - val_accuracy: 0.7817\n",
      "Epoch 3/5\n",
      "647/647 [==============================] - 374s 578ms/step - loss: 0.4194 - accuracy: 0.8051 - val_loss: 0.4561 - val_accuracy: 0.7861\n",
      "Epoch 4/5\n",
      "647/647 [==============================] - 451s 697ms/step - loss: 0.3336 - accuracy: 0.8510 - val_loss: 0.4661 - val_accuracy: 0.7874\n",
      "Epoch 5/5\n",
      "647/647 [==============================] - 406s 627ms/step - loss: 0.2294 - accuracy: 0.9041 - val_loss: 0.5390 - val_accuracy: 0.7952\n"
     ]
    },
    {
     "data": {
      "text/plain": [
       "<keras.src.callbacks.History at 0x232555b6110>"
      ]
     },
     "execution_count": 8,
     "metadata": {},
     "output_type": "execute_result"
    }
   ],
   "source": [
    "model.fit(X,y,epochs=5,validation_split=0.1)"
   ]
  },
  {
   "cell_type": "code",
   "execution_count": 12,
   "id": "a2fadc55",
   "metadata": {},
   "outputs": [],
   "source": [
    "from tensorflow.keras.callbacks import TensorBoard\n",
    "import time"
   ]
  },
  {
   "cell_type": "code",
   "execution_count": 13,
   "id": "f1ee27c3",
   "metadata": {},
   "outputs": [],
   "source": [
    "NAME = f'cat-vs-dog-{int(time.time())}'\n",
    "tensorboard = TensorBoard(log_dir=f'logs\\\\{NAME}\\\\')\n"
   ]
  },
  {
   "cell_type": "code",
   "execution_count": 14,
   "id": "072deb01",
   "metadata": {},
   "outputs": [
    {
     "name": "stdout",
     "output_type": "stream",
     "text": [
      "Epoch 1/5\n",
      "647/647 [==============================] - 501s 770ms/step - loss: 0.6482 - accuracy: 0.6104 - val_loss: 0.5816 - val_accuracy: 0.6987\n",
      "Epoch 2/5\n",
      "647/647 [==============================] - 470s 726ms/step - loss: 0.5047 - accuracy: 0.7550 - val_loss: 0.4674 - val_accuracy: 0.7796\n",
      "Epoch 3/5\n",
      "647/647 [==============================] - 479s 740ms/step - loss: 0.4176 - accuracy: 0.8073 - val_loss: 0.4691 - val_accuracy: 0.7774\n",
      "Epoch 4/5\n",
      "647/647 [==============================] - 481s 744ms/step - loss: 0.3312 - accuracy: 0.8562 - val_loss: 0.4738 - val_accuracy: 0.7865\n",
      "Epoch 5/5\n",
      "647/647 [==============================] - 505s 781ms/step - loss: 0.2120 - accuracy: 0.9136 - val_loss: 0.5239 - val_accuracy: 0.8039\n"
     ]
    },
    {
     "data": {
      "text/plain": [
       "<keras.src.callbacks.History at 0x16d21828e50>"
      ]
     },
     "execution_count": 14,
     "metadata": {},
     "output_type": "execute_result"
    }
   ],
   "source": [
    "model.fit(X,y,epochs=5,validation_split=0.1,batch_size=32,callbacks=[tensorboard])"
   ]
  },
  {
   "cell_type": "code",
   "execution_count": null,
   "id": "a2970d7b",
   "metadata": {},
   "outputs": [],
   "source": []
  }
 ],
 "metadata": {
  "kernelspec": {
   "display_name": "Python 3 (ipykernel)",
   "language": "python",
   "name": "python3"
  },
  "language_info": {
   "codemirror_mode": {
    "name": "ipython",
    "version": 3
   },
   "file_extension": ".py",
   "mimetype": "text/x-python",
   "name": "python",
   "nbconvert_exporter": "python",
   "pygments_lexer": "ipython3",
   "version": "3.10.9"
  }
 },
 "nbformat": 4,
 "nbformat_minor": 5
}
